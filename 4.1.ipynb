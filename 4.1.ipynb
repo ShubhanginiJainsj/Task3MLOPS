{
 "cells": [
  {
   "cell_type": "code",
   "execution_count": 184,
   "metadata": {},
   "outputs": [],
   "source": [
    "import cv2"
   ]
  },
  {
   "cell_type": "code",
   "execution_count": 185,
   "metadata": {},
   "outputs": [],
   "source": [
    "photo = cv2.imread('a.jpg',1)"
   ]
  },
  {
   "cell_type": "code",
   "execution_count": 186,
   "metadata": {},
   "outputs": [
    {
     "data": {
      "text/plain": [
       "(643, 643, 3)"
      ]
     },
     "execution_count": 186,
     "metadata": {},
     "output_type": "execute_result"
    }
   ],
   "source": [
    "photo.shape\n"
   ]
  },
  {
   "cell_type": "code",
   "execution_count": 199,
   "metadata": {},
   "outputs": [],
   "source": [
    "photo = cv2.circle(photo, (335,335), 120, (0,255,0), 5)\n",
    "photo = cv2.line(photo, (335,335), (0,335), (0,0,255), 5)\n",
    "photo = cv2.line(photo, (335,335), (0,0), (255,0,255), 5)\n",
    "photo = cv2.line(photo, (335,335),(0,649),  (255,0,255), 5)\n",
    "photo = cv2.line(photo, (335,335),(335,0), (0,0,255), 5)\n",
    "photo = cv2.line(photo, (335,335),(643,335), (0,0,255), 5)\n",
    "photo = cv2.line(photo, (335,335), (643,0), (255,0,255), 5)\n",
    "photo = cv2.line(photo, (335,335), (643,649), (255,0,255), 5)\n",
    "photo = cv2.line(photo, (335,335), (335,643), (0,0,255), 5)\n",
    "photo = cv2.rectangle(photo, (300,300), (370,370), (0,255,255), -1  )\n",
    "photo = cv2.rectangle(photo, (200,200), (470,470), (0,255,255), 10  )\n",
    "photo = cv2.rectangle(photo, (100,100), (570,570), (0,255,255), 5  )"
   ]
  },
  {
   "cell_type": "code",
   "execution_count": 201,
   "metadata": {},
   "outputs": [],
   "source": [
    "cv2.imshow('task1',photo)\n",
    "cv2.waitKey()\n",
    "cv2.destroyAllWindows()"
   ]
  },
  {
   "cell_type": "code",
   "execution_count": null,
   "metadata": {},
   "outputs": [],
   "source": []
  }
 ],
 "metadata": {
  "kernelspec": {
   "display_name": "Python 3",
   "language": "python",
   "name": "python3"
  },
  "language_info": {
   "codemirror_mode": {
    "name": "ipython",
    "version": 3
   },
   "file_extension": ".py",
   "mimetype": "text/x-python",
   "name": "python",
   "nbconvert_exporter": "python",
   "pygments_lexer": "ipython3",
   "version": "3.8.5"
  }
 },
 "nbformat": 4,
 "nbformat_minor": 4
}
